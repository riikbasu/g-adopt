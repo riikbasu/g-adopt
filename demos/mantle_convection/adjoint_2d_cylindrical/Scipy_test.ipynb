{
 "cells": [
  {
   "cell_type": "code",
   "execution_count": 8,
   "id": "ca8117b5-4729-4880-9385-eccc61583254",
   "metadata": {},
   "outputs": [
    {
     "name": "stdout",
     "output_type": "stream",
     "text": [
      "Iter    X1          X2          X3         f(X)     \n",
      "   1    1.023203    1.057967    1.134764    0.039982\n",
      "   2    1.029643    1.063768    1.130479    0.006371\n",
      "   3    1.032070    1.062500    1.130424    0.005877\n",
      "   4    1.030992    1.063063    1.130394    0.004947\n",
      "   5    1.030240    1.061508    1.126734    0.004699\n",
      "   6    1.019119    1.038541    1.075891    0.002568\n",
      "   7    1.013404    1.026900    1.052007    0.001537\n",
      "   8    1.004807    1.009617    1.018835    0.000140\n",
      "   9    1.001122    1.002187    1.004164    0.000011\n",
      "  10    1.000182    1.000371    1.000771    0.000000\n",
      "  11    0.999949    0.999896    0.999781    0.000000\n",
      "  12    0.999999    0.999997    0.999994    0.000000\n",
      "  13    0.999999    0.999997    0.999994    0.000000\n"
     ]
    }
   ],
   "source": [
    "import numpy as np\n",
    "from scipy.optimize import minimize\n",
    "\n",
    "Nfeval = 1\n",
    "\n",
    "def rosen(X): #Rosenbrock function\n",
    "    return (1.0 - X[0])**2 + 100.0 * (X[1] - X[0]**2)**2 + \\\n",
    "           (1.0 - X[1])**2 + 100.0 * (X[2] - X[1]**2)**2\n",
    "\n",
    "def callbackF(Xi):\n",
    "    global Nfeval\n",
    "    print ('{0:4d}   {1: 3.6f}   {2: 3.6f}   {3: 3.6f}   {4: 3.6f}'.format(Nfeval, Xi[0], Xi[1], Xi[2], rosen(Xi)))\n",
    "    Nfeval += 1\n",
    "\n",
    "print  ('{0:4s}   {1:9s}   {2:9s}   {3:9s}   {4:9s}'.format('Iter', ' X1', ' X2', ' X3', 'f(X)'))   \n",
    "x0 = np.array([1.1, 1.1, 1.1], dtype=np.double)\n",
    "sol = \\\n",
    "    minimize(rosen, \n",
    "              x0, \n",
    "              method='L-BFGS-B',\n",
    "              callback=callbackF, \n",
    "              )"
   ]
  },
  {
   "cell_type": "code",
   "execution_count": null,
   "id": "ea78369b-0f68-4497-bf32-e3e625504951",
   "metadata": {},
   "outputs": [],
   "source": []
  }
 ],
 "metadata": {
  "kernelspec": {
   "display_name": "Python 3 (ipykernel)",
   "language": "python",
   "name": "python3"
  },
  "language_info": {
   "codemirror_mode": {
    "name": "ipython",
    "version": 3
   },
   "file_extension": ".py",
   "mimetype": "text/x-python",
   "name": "python",
   "nbconvert_exporter": "python",
   "pygments_lexer": "ipython3",
   "version": "3.10.12"
  }
 },
 "nbformat": 4,
 "nbformat_minor": 5
}
