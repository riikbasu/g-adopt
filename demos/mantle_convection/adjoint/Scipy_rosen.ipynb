{
 "cells": [
  {
   "cell_type": "code",
   "execution_count": 34,
   "id": "ab64fbd2-5e22-46fa-8f08-32cd80b7347b",
   "metadata": {},
   "outputs": [
    {
     "name": "stdout",
     "output_type": "stream",
     "text": [
      "intermediate_result.fun=np.float64(0.020320782879891426)\n",
      "sf.nfev=9, sf.ngev=3\n",
      "intermediate_result.fun=np.float64(0.003375203596849048)\n",
      "sf.nfev=12, sf.ngev=4\n",
      "intermediate_result.fun=np.float64(0.0033344887284322672)\n",
      "sf.nfev=15, sf.ngev=5\n",
      "intermediate_result.fun=np.float64(0.0032948353554570014)\n",
      "sf.nfev=24, sf.ngev=8\n",
      "intermediate_result.fun=np.float64(0.003145761144422635)\n",
      "sf.nfev=27, sf.ngev=9\n",
      "intermediate_result.fun=np.float64(0.002661585392995426)\n",
      "sf.nfev=30, sf.ngev=10\n",
      "intermediate_result.fun=np.float64(0.0020183679843004073)\n",
      "sf.nfev=33, sf.ngev=11\n",
      "intermediate_result.fun=np.float64(0.0011750683471541284)\n",
      "sf.nfev=36, sf.ngev=12\n",
      "intermediate_result.fun=np.float64(0.00016904622936589372)\n",
      "sf.nfev=39, sf.ngev=13\n",
      "intermediate_result.fun=np.float64(1.3080597030285378e-05)\n",
      "sf.nfev=42, sf.ngev=14\n",
      "intermediate_result.fun=np.float64(2.416889338371718e-07)\n",
      "sf.nfev=45, sf.ngev=15\n",
      "intermediate_result.fun=np.float64(2.217118363803352e-09)\n",
      "sf.nfev=48, sf.ngev=16\n",
      "intermediate_result.fun=np.float64(6.991257591450135e-11)\n",
      "sf.nfev=51, sf.ngev=17\n"
     ]
    }
   ],
   "source": [
    "import numpy as np\n",
    "import inspect\n",
    "from scipy.optimize import minimize\n",
    "\n",
    "def rosen(X): #Rosenbrock function\n",
    "    return (1.0 - X[0])**2 + 100.0 * (X[1] - X[0]**2)**2\n",
    "\n",
    "# def rosen_grad(X):\n",
    "#     dx = -2 * (1 - X[0]) - 400 * X[0] * (X[1] - X[0]**2)\n",
    "#     dy = 200 * (X[1] - X[0]**2)\n",
    "#     return np.array([dx, dy])\n",
    "\n",
    "def callback(intermediate_result):\n",
    "    sf = inspect.stack()[3].frame.f_locals[\"sf\"]\n",
    "    print(f\"{intermediate_result.fun=}\")\n",
    "    print(f\"{sf.nfev=}, {sf.ngev=}\")\n",
    "\n",
    "x0 = np.array([1.1, 1.1], dtype=np.double)\n",
    "# sol = fmin_l_bfgs_b(rosen, x0, fprime=rosen_grad, callback=callback)\n",
    "# or, use the method that pyadjoint eventually uses\n",
    "# skip the gradient to see nfev go much higher than ngev\n",
    "sol = minimize(rosen, x0, method=\"L-BFGS-B\", callback=callback)\n"
   ]
  },
  {
   "cell_type": "code",
   "execution_count": 33,
   "id": "cd71af26-9903-47f2-9d48-fde2157facce",
   "metadata": {},
   "outputs": [
    {
     "name": "stdout",
     "output_type": "stream",
     "text": [
      "<class 'function'>\n"
     ]
    }
   ],
   "source": [
    "print(type(rosen))"
   ]
  },
  {
   "cell_type": "code",
   "execution_count": null,
   "id": "e82579d0-b5a5-4fe5-a8b0-01db83c80024",
   "metadata": {},
   "outputs": [],
   "source": []
  }
 ],
 "metadata": {
  "kernelspec": {
   "display_name": "Python 3 (ipykernel)",
   "language": "python",
   "name": "python3"
  },
  "language_info": {
   "codemirror_mode": {
    "name": "ipython",
    "version": 3
   },
   "file_extension": ".py",
   "mimetype": "text/x-python",
   "name": "python",
   "nbconvert_exporter": "python",
   "pygments_lexer": "ipython3",
   "version": "3.10.12"
  }
 },
 "nbformat": 4,
 "nbformat_minor": 5
}
